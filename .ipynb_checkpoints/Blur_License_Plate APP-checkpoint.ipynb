{
 "cells": [
  {
   "cell_type": "code",
   "execution_count": 1,
   "metadata": {},
   "outputs": [],
   "source": [
    "import numpy as np\n",
    "import matplotlib.pyplot as plt\n",
    "import cv2\n",
    "from tkinter import *\n",
    "from tkinter import filedialog, messagebox\n",
    "import os\n",
    "\n",
    "root=Tk()\n",
    "root.title(\"Blur_License_Plate APP\")\n",
    "root.geometry(\"500x250\") \n",
    "root.resizable(0,0)\n",
    "root.configure(bg='black')\n",
    "\n",
    "\n",
    "def open_img():\n",
    "    global my_image\n",
    "    root.filename=filedialog.askopenfilename(initialdir='/media/abrar/DATA/projects',title = \"Select a File\", filetypes = ((\"all files\", \"*.*\"),(\"Text files\", \"*.txt*\")))\n",
    "    my_label=Label(root,text=root.filename).pack()\n",
    "    my_image=cv2.imread(root.filename)\n",
    "    \n",
    "    plate_cascade=cv2.CascadeClassifier('haarcascade_russian_plate_number.xml')\n",
    "    plate_img=my_image.copy()\n",
    "    roi=my_image.copy()\n",
    "    plate_rects=plate_cascade.detectMultiScale(plate_img,scaleFactor=1.3,minNeighbors=3)\n",
    "    \n",
    "    for (x,y,w,h) in plate_rects:\n",
    "        roi=roi[y:y+h,x:x+w]\n",
    "        blurred_roi=cv2.medianBlur(roi,7)\n",
    "        \n",
    "        plate_img[y:y+h,x:x+w]=blurred_roi\n",
    "    \n",
    "    result=plate_img\n",
    "    path = '/media/abrar/DATA/projects/License plate blur/output'\n",
    "    cv2.imwrite(os.path.join(path , 'blurred.jpg'),result)\n",
    "    messagebox.showinfo(title='Car ', message='Check Output folder')\n",
    "    \n",
    "my_btn=Button(root,text='Browse:',command=open_img,height=5,width=15,font=('Comic Sans MS',25,'bold'),bg='DarkOrchid3',fg='Yellow').pack()\n",
    "\n",
    "root.mainloop()\n",
    "\n"
   ]
  },
  {
   "cell_type": "code",
   "execution_count": null,
   "metadata": {},
   "outputs": [],
   "source": []
  },
  {
   "cell_type": "code",
   "execution_count": null,
   "metadata": {},
   "outputs": [],
   "source": []
  },
  {
   "cell_type": "code",
   "execution_count": null,
   "metadata": {},
   "outputs": [],
   "source": []
  }
 ],
 "metadata": {
  "kernelspec": {
   "display_name": "Python 3",
   "language": "python",
   "name": "python3"
  },
  "language_info": {
   "codemirror_mode": {
    "name": "ipython",
    "version": 3
   },
   "file_extension": ".py",
   "mimetype": "text/x-python",
   "name": "python",
   "nbconvert_exporter": "python",
   "pygments_lexer": "ipython3",
   "version": "3.7.6"
  }
 },
 "nbformat": 4,
 "nbformat_minor": 4
}
